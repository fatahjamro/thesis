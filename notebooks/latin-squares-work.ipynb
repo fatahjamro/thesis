{
 "cells": [
  {
   "cell_type": "markdown",
   "metadata": {},
   "source": [
    "## Latin squares construction using Python\n",
    "This notebook is to construction Latin squares using python coding, also we try to find all mutually orthogonal Latin squares  with the help of coding.\n"
   ]
  },
  {
   "cell_type": "markdown",
   "metadata": {},
   "source": [
    "We try to make an array of two qubits in superposition states.\n",
    "\n",
    "The array is designed in quantum Latin square format.\n",
    "\n",
    "Though the array seems QLS if we only look at 'string' data type \n",
    "\n",
    "but yet it is not confirmed that\n",
    "each state is a normalized vector and orthogonal as well.\n",
    "\n",
    "They are Rows and columns are constructed manually."
   ]
  },
  {
   "cell_type": "code",
   "execution_count": 1,
   "metadata": {},
   "outputs": [
    {
     "data": {
      "image/png": "[encoded data removed]",
      "text/plain": [
       "<Figure size 640x480 with 1 Axes>"
      ]
     },
     "metadata": {},
     "output_type": "display_data"
    }
   ],
   "source": [
    "import numpy as np\n",
    "import matplotlib.pyplot as plt\n",
    "\n",
    "# Define the quantum states for the rows and columns\n",
    "quantum_states = [\n",
    "    [\n",
    "        r'$\\frac{1}{\\sqrt{2}}(|00\\rangle + |01\\rangle)$',\n",
    "        r'$\\frac{1}{\\sqrt{2}}(|00\\rangle - |01\\rangle)$',\n",
    "        r'$\\frac{1}{\\sqrt{2}}(|10\\rangle + |11\\rangle)$',\n",
    "        r'$\\frac{1}{\\sqrt{2}}(|10\\rangle - |11\\rangle)$'\n",
    "    ],\n",
    "    [\n",
    "        r'$\\frac{1}{\\sqrt{2}}(|01\\rangle + |10\\rangle)$',\n",
    "        r'$\\frac{1}{\\sqrt{2}}(|01\\rangle - |10\\rangle)$',\n",
    "        r'$\\frac{1}{\\sqrt{2}}(|11\\rangle + |00\\rangle)$',\n",
    "        r'$\\frac{1}{\\sqrt{2}}(|11\\rangle - |00\\rangle)$'\n",
    "    ],\n",
    "    [\n",
    "        r'$\\frac{1}{\\sqrt{2}}(|10\\rangle + |11\\rangle)$',\n",
    "        r'$\\frac{1}{\\sqrt{2}}(|10\\rangle - |11\\rangle)$',\n",
    "        r'$\\frac{1}{\\sqrt{2}}(|00\\rangle + |01\\rangle)$',\n",
    "        r'$\\frac{1}{\\sqrt{2}}(|00\\rangle - |01\\rangle)$'\n",
    "    ],\n",
    "    [\n",
    "        r'$\\frac{1}{\\sqrt{2}}(|11\\rangle + |00\\rangle)$',\n",
    "        r'$\\frac{1}{\\sqrt{2}}(|11\\rangle - |00\\rangle)$',\n",
    "        r'$\\frac{1}{\\sqrt{2}}(|01\\rangle + |10\\rangle)$',\n",
    "        r'$\\frac{1}{\\sqrt{2}}(|01\\rangle - |10\\rangle)$'\n",
    "    ]\n",
    "]\n",
    "\n",
    "# Create a 4x4 table\n",
    "table1 = np.array(quantum_states)\n",
    "\n",
    "# Create a figure and axis\n",
    "fig, ax = plt.subplots()\n",
    "\n",
    "# Hide axes\n",
    "ax.axis('off')\n",
    "\n",
    "# Create the table\n",
    "table1 = ax.table(cellText=table1, loc='center', cellLoc='center', cellColours=[['lightgray']*4]*4)\n",
    "\n",
    "# Set cell font size\n",
    "table1.auto_set_font_size(False)\n",
    "table1.set_fontsize(11)\n",
    "\n",
    "# Adjust cell height and width\n",
    "table1.scale(2,2)\n",
    "\n",
    "# Show the plot\n",
    "plt.show()\n"
   ]
  },
  {
   "cell_type": "code",
   "execution_count": 2,
   "metadata": {},
   "outputs": [
    {
     "name": "stdout",
     "output_type": "stream",
     "text": [
      "Row 1: 1 repetitions\n",
      "Row 2: 1 repetitions\n",
      "Row 3: 1 repetitions\n",
      "Row 4: 1 repetitions\n"
     ]
    }
   ],
   "source": [
    "\n",
    "# Check for unique rows and count repetitions\n",
    "unique_rows = []\n",
    "for row in quantum_states:\n",
    "    if row not in unique_rows:\n",
    "        unique_rows.append(row)\n",
    "\n",
    "# Print the number of repetitions in each row\n",
    "for i, row in enumerate(quantum_states):\n",
    "    repetition_count = quantum_states.count(row)\n",
    "    print(f\"Row {i+1}: {repetition_count} repetitions\")\n",
    "\n",
    "# Show the plot\n",
    "plt.show()\n"
   ]
  },
  {
   "cell_type": "code",
   "execution_count": 7,
   "metadata": {},
   "outputs": [
    {
     "name": "stdout",
     "output_type": "stream",
     "text": [
      "All cells are unique within their rows and columns\n"
     ]
    }
   ],
   "source": [
    "unique_cells = True\n",
    "for i in range(4):\n",
    "    for j in range(4):\n",
    "        cell = quantum_states[i][j]\n",
    "        row_count = quantum_states[i].count(cell)\n",
    "        col_count = sum(quantum_states[k][j] == cell for k in range(4))\n",
    "        if row_count > 1 or col_count > 1:\n",
    "            unique_cells = False\n",
    "            print(f\"Cell ({i+1},{j+1}) is not unique\")\n",
    "\n",
    "# Print a message indicating if all cells are unique\n",
    "if unique_cells:\n",
    "    print(\"All cells are unique within their rows and columns\")\n",
    "else:\n",
    "    print(\"Not all cells are unique within their rows and columns\")\n",
    "\n",
    "# Show the plot\n",
    "plt.show()"
   ]
  },
  {
   "cell_type": "code",
   "execution_count": 8,
   "metadata": {},
   "outputs": [
    {
     "data": {
      "image/png": "[encoded data removed]",
      "text/plain": [
       "<Figure size 640x480 with 1 Axes>"
      ]
     },
     "metadata": {},
     "output_type": "display_data"
    }
   ],
   "source": [
    "import numpy as np\n",
    "import matplotlib.pyplot as plt\n",
    "\n",
    "# Define the quantum states for the rows and columns\n",
    "quantum_states = [\n",
    "    [\n",
    "        r'$\\frac{1}{\\sqrt{2}}(|00\\rangle + |01\\rangle)$',\n",
    "        r'$\\frac{1}{\\sqrt{2}}(|00\\rangle - |01\\rangle)$',\n",
    "        r'$\\frac{1}{\\sqrt{2}}(|10\\rangle + |11\\rangle)$',\n",
    "        r'$\\frac{1}{\\sqrt{2}}(|10\\rangle - |11\\rangle)$'\n",
    "    ],\n",
    "    [\n",
    "        r'$\\frac{1}{\\sqrt{2}}(|00\\rangle - |10\\rangle)$',\n",
    "        r'$\\frac{1}{\\sqrt{2}}(|00\\rangle + |10\\rangle)$',\n",
    "        r'$\\frac{1}{\\sqrt{2}}(|01\\rangle - |11\\rangle)$',\n",
    "        r'$\\frac{1}{\\sqrt{2}}(|01\\rangle + |11\\rangle)$'\n",
    "    ],\n",
    "    [\n",
    "        r'$\\frac{1}{\\sqrt{2}}(|01\\rangle + |11\\rangle)$',\n",
    "        r'$\\frac{1}{\\sqrt{2}}(|01\\rangle - |11\\rangle)$',\n",
    "        r'$\\frac{1}{\\sqrt{2}}(|00\\rangle + |10\\rangle)$',\n",
    "        r'$\\frac{1}{\\sqrt{2}}(|00\\rangle - |10\\rangle)$'\n",
    "    ],\n",
    "    [\n",
    "        r'$\\frac{1}{\\sqrt{2}}(|10\\rangle - |00\\rangle)$',\n",
    "        r'$\\frac{1}{\\sqrt{2}}(|10\\rangle + |00\\rangle)$',\n",
    "        r'$\\frac{1}{\\sqrt{2}}(|11\\rangle - |01\\rangle)$',\n",
    "        r'$\\frac{1}{\\sqrt{2}}(|11\\rangle + |01\\rangle)$'\n",
    "    ]\n",
    "]\n",
    "\n",
    "\n",
    "# Create a 4x4 table\n",
    "table2 = np.array(quantum_states)\n",
    "\n",
    "# Create a figure and axis\n",
    "fig, ax = plt.subplots()\n",
    "\n",
    "# Hide axes\n",
    "ax.axis('off')\n",
    "\n",
    "# Create the table\n",
    "table2 = ax.table(cellText=table2, loc='center', cellLoc='center', cellColours=[['lightgray']*4]*4)\n",
    "\n",
    "# Set cell font size\n",
    "table2.auto_set_font_size(False)\n",
    "table2.set_fontsize(11)\n",
    "\n",
    "# Adjust cell height and width\n",
    "table2.scale(2,2)\n",
    "\n",
    "# Show the plot\n",
    "plt.show()\n"
   ]
  },
  {
   "cell_type": "code",
   "execution_count": 5,
   "metadata": {},
   "outputs": [
    {
     "data": {
      "image/png": "[encoded data removed]",
      "text/plain": [
       "<Figure size 640x480 with 1 Axes>"
      ]
     },
     "metadata": {},
     "output_type": "display_data"
    }
   ],
   "source": [
    "import numpy as np\n",
    "import matplotlib.pyplot as plt\n",
    "\n",
    "# Define the quantum states for the first OQLS\n",
    "oqls1 = [\n",
    "    [\n",
    "        r'$\\frac{1}{\\sqrt{2}}(|00\\rangle + |01\\rangle)$',\n",
    "        r'$\\frac{1}{\\sqrt{2}}(|00\\rangle - |01\\rangle)$',\n",
    "        r'$\\frac{1}{\\sqrt{2}}(|10\\rangle + |11\\rangle)$',\n",
    "        r'$\\frac{1}{\\sqrt{2}}(|10\\rangle - |11\\rangle)$'\n",
    "    ],\n",
    "    [\n",
    "        r'$\\frac{1}{\\sqrt{2}}(|01\\rangle + |10\\rangle)$',\n",
    "        r'$\\frac{1}{\\sqrt{2}}(|01\\rangle - |10\\rangle)$',\n",
    "        r'$\\frac{1}{\\sqrt{2}}(|11\\rangle + |00\\rangle)$',\n",
    "        r'$\\frac{1}{\\sqrt{2}}(|11\\rangle - |00\\rangle)$'\n",
    "    ],\n",
    "    [\n",
    "        r'$\\frac{1}{\\sqrt{2}}(|10\\rangle + |11\\rangle)$',\n",
    "        r'$\\frac{1}{\\sqrt{2}}(|10\\rangle - |11\\rangle)$',\n",
    "        r'$\\frac{1}{\\sqrt{2}}(|00\\rangle + |01\\rangle)$',\n",
    "        r'$\\frac{1}{\\sqrt{2}}(|00\\rangle - |01\\rangle)$'\n",
    "    ],\n",
    "    [\n",
    "        r'$\\frac{1}{\\sqrt{2}}(|11\\rangle + |00\\rangle)$',\n",
    "        r'$\\frac{1}{\\sqrt{2}}(|11\\rangle - |00\\rangle)$',\n",
    "        r'$\\frac{1}{\\sqrt{2}}(|01\\rangle + |10\\rangle)$',\n",
    "        r'$\\frac{1}{\\sqrt{2}}(|01\\rangle - |10\\rangle)$'\n",
    "    ]\n",
    "]\n",
    "\n",
    "# Define the quantum states for the second OQLS\n",
    "oqls2 = [\n",
    "    [\n",
    "        r'$\\frac{1}{\\sqrt{2}}(|00\\rangle + |01\\rangle)$',\n",
    "        r'$\\frac{1}{\\sqrt{2}}(|00\\rangle - |01\\rangle)$',\n",
    "        r'$\\frac{1}{\\sqrt{2}}(|10\\rangle + |11\\rangle)$',\n",
    "        r'$\\frac{1}{\\sqrt{2}}(|10\\rangle - |11\\rangle)$'\n",
    "    ],\n",
    "    [\n",
    "        r'$\\frac{1}{\\sqrt{2}}(|00\\rangle - |10\\rangle)$',\n",
    "        r'$\\frac{1}{\\sqrt{2}}(|00\\rangle + |10\\rangle)$',\n",
    "        r'$\\frac{1}{\\sqrt{2}}(|01\\rangle - |11\\rangle)$',\n",
    "        r'$\\frac{1}{\\sqrt{2}}(|01\\rangle + |11\\rangle)$'\n",
    "    ],\n",
    "    [\n",
    "        r'$\\frac{1}{\\sqrt{2}}(|01\\rangle + |11\\rangle)$',\n",
    "        r'$\\frac{1}{\\sqrt{2}}(|01\\rangle - |11\\rangle)$',\n",
    "        r'$\\frac{1}{\\sqrt{2}}(|00\\rangle + |10\\rangle)$',\n",
    "        r'$\\frac{1}{\\sqrt{2}}(|00\\rangle - |10\\rangle)$'\n",
    "    ],\n",
    "    [\n",
    "        r'$\\frac{1}{\\sqrt{2}}(|10\\rangle - |00\\rangle)$',\n",
    "        r'$\\frac{1}{\\sqrt{2}}(|10\\rangle + |00\\rangle)$',\n",
    "        r'$\\frac{1}{\\sqrt{2}}(|11\\rangle - |01\\rangle)$',\n",
    "        r'$\\frac{1}{\\sqrt{2}}(|11\\rangle + |01\\rangle)$'\n",
    "    ]\n",
    "]\n",
    "\n",
    "# Create the combined 4x4 OQLS\n",
    "combined_oqls = []\n",
    "\n",
    "for i in range(4):\n",
    "    row = []\n",
    "    for j in range(4):\n",
    "        row.append(f\"{oqls1[i][j]}\\n{oqls2[i][j]}\")\n",
    "    combined_oqls.append(row)\n",
    "\n",
    "# Create a figure and axis\n",
    "fig, ax = plt.subplots()\n",
    "\n",
    "# Hide axes\n",
    "ax.axis('off')\n",
    "\n",
    "# Create the table for visualization\n",
    "table = ax.table(cellText=combined_oqls, loc='center', cellLoc='center')\n",
    "\n",
    "# Set cell font size\n",
    "table.auto_set_font_size(False)\n",
    "table.set_fontsize(11)\n",
    "\n",
    "# Adjust cell height and width\n",
    "table.scale(1.5, 4)\n",
    "\n",
    "# Show the plot\n",
    "plt.show()\n"
   ]
  },
  {
   "cell_type": "code",
   "execution_count": 9,
   "metadata": {},
   "outputs": [
    {
     "name": "stdout",
     "output_type": "stream",
     "text": [
      "Row 1: 1 repetitions\n",
      "Row 2: 1 repetitions\n",
      "Row 3: 1 repetitions\n",
      "Row 4: 1 repetitions\n"
     ]
    }
   ],
   "source": [
    "\n",
    "# Check for unique rows and count repetitions\n",
    "unique_rows = []\n",
    "for row in combined_oqls:\n",
    "    if row not in unique_rows:\n",
    "        unique_rows.append(row)\n",
    "\n",
    "# Print the number of repetitions in each row\n",
    "for i, row in enumerate(combined_oqls):\n",
    "    repetition_count = combined_oqls.count(row)\n",
    "    print(f\"Row {i+1}: {repetition_count} repetitions\")\n",
    "\n",
    "# Show the plot\n",
    "plt.show()\n"
   ]
  },
  {
   "cell_type": "code",
   "execution_count": null,
   "metadata": {},
   "outputs": [],
   "source": []
  }
 ],
 "metadata": {
  "kernelspec": {
   "display_name": "base",
   "language": "python",
   "name": "python3"
  },
  "language_info": {
   "codemirror_mode": {
    "name": "ipython",
    "version": 3
   },
   "file_extension": ".py",
   "mimetype": "text/x-python",
   "name": "python",
   "nbconvert_exporter": "python",
   "pygments_lexer": "ipython3",
   "version": "3.11.4"
  }
 },
 "nbformat": 4,
 "nbformat_minor": 2
}
